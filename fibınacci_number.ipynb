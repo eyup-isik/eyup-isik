{
  "nbformat": 4,
  "nbformat_minor": 0,
  "metadata": {
    "colab": {
      "name": "fibınacci number",
      "provenance": [],
      "authorship_tag": "ABX9TyO0DhDT9nXxWDIc9N9NTmtZ",
      "include_colab_link": true
    },
    "kernelspec": {
      "name": "python3",
      "display_name": "Python 3"
    },
    "language_info": {
      "name": "python"
    }
  },
  "cells": [
    {
      "cell_type": "markdown",
      "metadata": {
        "id": "view-in-github",
        "colab_type": "text"
      },
      "source": [
        "<a href=\"https://colab.research.google.com/github/eyup-isik/eyup-isik/blob/main/fib%C4%B1nacci_number.ipynb\" target=\"_parent\"><img src=\"https://colab.research.google.com/assets/colab-badge.svg\" alt=\"Open In Colab\"/></a>"
      ]
    },
    {
      "cell_type": "code",
      "execution_count": 1,
      "metadata": {
        "colab": {
          "base_uri": "https://localhost:8080/"
        },
        "id": "ZAt99MmPKwqv",
        "outputId": "9f4aa146-bf66-45fb-919c-74fd1c416f09"
      },
      "outputs": [
        {
          "output_type": "stream",
          "name": "stdout",
          "text": [
            "[0, 1, 1, 2, 3, 5, 8, 13, 21, 34, 55]\n"
          ]
        }
      ],
      "source": [
        "number =11\n",
        "fibunacci_number=[]\n",
        "for i in range(number) :\n",
        "    if i < 2 :\n",
        "        fibunacci_number.append(i)\n",
        "    else :\n",
        "        new_sum=fibunacci_number[i-2] + fibunacci_number[i-1]\n",
        "        fibunacci_number.append(new_sum)\n",
        "print(fibunacci_number)"
      ]
    }
  ]
}